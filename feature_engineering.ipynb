{
 "cells": [
  {
   "cell_type": "code",
   "execution_count": null,
   "metadata": {},
   "outputs": [],
   "source": [
    "import pandas as pd\n",
    "import numpy as np"
   ]
  },
  {
   "cell_type": "code",
   "execution_count": null,
   "metadata": {},
   "outputs": [],
   "source": [
    "# load data\n",
    "apple_df = pd.read_csv('data/AAPL.csv')\n",
    "\n",
    "apple_df.head()"
   ]
  },
  {
   "cell_type": "code",
   "execution_count": null,
   "metadata": {},
   "outputs": [],
   "source": [
    "# Calculate daily returns\n",
    "apple_df['Daily_Return'] = apple_df['Close'].pct_change( periods = 1 )\n",
    "apple_df.head()\n",
    "\n",
    "# create new column for 5 day rolling mean of close price\n",
    "apple_df['5_day_mean_close_price'] = apple_df['Close'].rolling(5).mean()\n",
    "apple_df.head(10)\n",
    "\n",
    "# create new column for 5 day rolling mean of volume\n",
    "apple_df['5_day_mean_volume'] = apple_df['Volume'].rolling(5).mean()\n",
    "apple_df.head(10)\n",
    "\n",
    "\n",
    "# create new column called Daily_Range\n",
    "apple_df['Daily_Range'] = apple_df['High'] - apple_df['Low']\n",
    "\n",
    "\n",
    "# create new column called Volaity\n",
    "apple_df['Volatility'] = apple_df['Daily_Return'].rolling(5).std()\n",
    "apple_df.head(10)\n"
   ]
  },
  {
   "cell_type": "code",
   "execution_count": null,
   "metadata": {},
   "outputs": [],
   "source": [
    "# create new column called Quarter\n",
    "apple_df['Quarter'] = pd.PeriodIndex(apple_df['Date'], freq='Q')"
   ]
  },
  {
   "cell_type": "code",
   "execution_count": null,
   "metadata": {},
   "outputs": [],
   "source": [
    "apple_df"
   ]
  },
  {
   "cell_type": "code",
   "execution_count": null,
   "metadata": {},
   "outputs": [],
   "source": [
    "# Calculate 5-day and 20-day exponential moving averages for closing price\n",
    "apple_df['EMA_Close_5'] = apple_df['Close'].ewm(span=5, adjust=False).mean()\n",
    "apple_df['EMA_Close_20'] = apple_df['Close'].ewm(span=20, adjust=False).mean()\n"
   ]
  }
 ],
 "metadata": {
  "kernelspec": {
   "display_name": ".venv",
   "language": "python",
   "name": "python3"
  },
  "language_info": {
   "codemirror_mode": {
    "name": "ipython",
    "version": 3
   },
   "file_extension": ".py",
   "mimetype": "text/x-python",
   "name": "python",
   "nbconvert_exporter": "python",
   "pygments_lexer": "ipython3",
   "version": "3.10.6"
  },
  "orig_nbformat": 4
 },
 "nbformat": 4,
 "nbformat_minor": 2
}
